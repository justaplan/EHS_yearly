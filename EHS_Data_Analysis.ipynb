{
  "nbformat": 4,
  "nbformat_minor": 0,
  "metadata": {
    "colab": {
      "name": "EHS_Data_Analysis.ipynb",
      "provenance": [],
      "collapsed_sections": [],
      "authorship_tag": "ABX9TyO8RZmpzzOsgKYGVLKw90eL",
      "include_colab_link": true
    },
    "kernelspec": {
      "name": "python3",
      "display_name": "Python 3"
    }
  },
  "cells": [
    {
      "cell_type": "markdown",
      "metadata": {
        "id": "view-in-github",
        "colab_type": "text"
      },
      "source": [
        "<a href=\"https://colab.research.google.com/github/justaplan/ehs_data_analysis/blob/master/EHS_Data_Analysis.ipynb\" target=\"_parent\"><img src=\"https://colab.research.google.com/assets/colab-badge.svg\" alt=\"Open In Colab\"/></a>"
      ]
    },
    {
      "cell_type": "code",
      "metadata": {
        "id": "LZkYyxW1t6e8",
        "colab_type": "code",
        "colab": {}
      },
      "source": [
        ""
      ],
      "execution_count": null,
      "outputs": []
    },
    {
      "cell_type": "code",
      "metadata": {
        "id": "sDOiOc6YuAD1",
        "colab_type": "code",
        "colab": {
          "base_uri": "https://localhost:8080/",
          "height": 204
        },
        "outputId": "2715704e-a259-42f7-ee3d-4793f0f8b181"
      },
      "source": [
        "from google.colab import auth\n",
        "auth.authenticate_user()\n",
        "import pandas as pd\n",
        "import matplotlib.pyplot as plt\n",
        "import gspread\n",
        "from oauth2client.client import GoogleCredentials\n",
        "\n",
        "gc = gspread.authorize(GoogleCredentials.get_application_default())\n",
        "\n",
        "wb = gc.open_by_key('1qvK5BkBSLDFKhausgwg8Ai3-3scVwJHGBrJ17fj48tc')\n",
        "ws = wb.worksheet(\"Year Data\")\n",
        "\n",
        "# get_all_values gives a list of rows.\n",
        "rows = ws.get_all_values()\n",
        "\n",
        "# Convert to a DataFrame and render.\n",
        "df = pd.DataFrame.from_records(rows[1:],columns=rows[0])\n",
        "df.tail()"
      ],
      "execution_count": 21,
      "outputs": [
        {
          "output_type": "execute_result",
          "data": {
            "text/html": [
              "<div>\n",
              "<style scoped>\n",
              "    .dataframe tbody tr th:only-of-type {\n",
              "        vertical-align: middle;\n",
              "    }\n",
              "\n",
              "    .dataframe tbody tr th {\n",
              "        vertical-align: top;\n",
              "    }\n",
              "\n",
              "    .dataframe thead th {\n",
              "        text-align: right;\n",
              "    }\n",
              "</style>\n",
              "<table border=\"1\" class=\"dataframe\">\n",
              "  <thead>\n",
              "    <tr style=\"text-align: right;\">\n",
              "      <th></th>\n",
              "      <th>No</th>\n",
              "      <th>Year</th>\n",
              "      <th>Permanent &amp; Contract</th>\n",
              "      <th>Trainee</th>\n",
              "      <th>Subcontractor</th>\n",
              "      <th>Total Man Hours Worked</th>\n",
              "      <th>OSHA Case</th>\n",
              "      <th>Non OSHA Case</th>\n",
              "      <th>Loss Day</th>\n",
              "      <th>Fatality Rate</th>\n",
              "      <th>Incident Rate</th>\n",
              "      <th>Frequency Rate</th>\n",
              "      <th>Severity Rate</th>\n",
              "      <th>National Incident Rate</th>\n",
              "      <th>National Fatality Rate</th>\n",
              "    </tr>\n",
              "  </thead>\n",
              "  <tbody>\n",
              "    <tr>\n",
              "      <th>2</th>\n",
              "      <td></td>\n",
              "      <td>2016</td>\n",
              "      <td>389</td>\n",
              "      <td>47</td>\n",
              "      <td>98</td>\n",
              "      <td>1230336</td>\n",
              "      <td>5</td>\n",
              "      <td>0</td>\n",
              "      <td>12</td>\n",
              "      <td>0</td>\n",
              "      <td>9.36</td>\n",
              "      <td>4.06</td>\n",
              "      <td>9.75</td>\n",
              "      <td>2.88</td>\n",
              "      <td>4.86</td>\n",
              "    </tr>\n",
              "    <tr>\n",
              "      <th>3</th>\n",
              "      <td></td>\n",
              "      <td>2017</td>\n",
              "      <td>439</td>\n",
              "      <td>42</td>\n",
              "      <td>135</td>\n",
              "      <td>1419264</td>\n",
              "      <td>5</td>\n",
              "      <td>1</td>\n",
              "      <td>12</td>\n",
              "      <td>0</td>\n",
              "      <td>8.12</td>\n",
              "      <td>3.52</td>\n",
              "      <td>8.46</td>\n",
              "      <td>2.93</td>\n",
              "      <td>4.92</td>\n",
              "    </tr>\n",
              "    <tr>\n",
              "      <th>4</th>\n",
              "      <td></td>\n",
              "      <td>2018</td>\n",
              "      <td>499</td>\n",
              "      <td>65</td>\n",
              "      <td>146</td>\n",
              "      <td>1635840</td>\n",
              "      <td>10</td>\n",
              "      <td>11</td>\n",
              "      <td>13</td>\n",
              "      <td>0</td>\n",
              "      <td>14.08</td>\n",
              "      <td>6.11</td>\n",
              "      <td>7.95</td>\n",
              "      <td>2.4</td>\n",
              "      <td>4.14</td>\n",
              "    </tr>\n",
              "    <tr>\n",
              "      <th>5</th>\n",
              "      <td></td>\n",
              "      <td>2019</td>\n",
              "      <td>591</td>\n",
              "      <td>66</td>\n",
              "      <td>134</td>\n",
              "      <td>1822464</td>\n",
              "      <td>1</td>\n",
              "      <td>6</td>\n",
              "      <td>3</td>\n",
              "      <td>0</td>\n",
              "      <td>1.26</td>\n",
              "      <td>0.55</td>\n",
              "      <td>1.65</td>\n",
              "      <td>2.71</td>\n",
              "      <td>3.83</td>\n",
              "    </tr>\n",
              "    <tr>\n",
              "      <th>6</th>\n",
              "      <td></td>\n",
              "      <td>2020</td>\n",
              "      <td>591</td>\n",
              "      <td>66</td>\n",
              "      <td>134</td>\n",
              "      <td>1822464</td>\n",
              "      <td>1</td>\n",
              "      <td>6</td>\n",
              "      <td>3</td>\n",
              "      <td>0</td>\n",
              "      <td>1.26</td>\n",
              "      <td>0.55</td>\n",
              "      <td>1.65</td>\n",
              "      <td>2.71</td>\n",
              "      <td>3.83</td>\n",
              "    </tr>\n",
              "  </tbody>\n",
              "</table>\n",
              "</div>"
            ],
            "text/plain": [
              "  No  Year  ... National Incident Rate National Fatality Rate\n",
              "2     2016  ...                   2.88                   4.86\n",
              "3     2017  ...                   2.93                   4.92\n",
              "4     2018  ...                    2.4                   4.14\n",
              "5     2019  ...                   2.71                   3.83\n",
              "6     2020  ...                   2.71                   3.83\n",
              "\n",
              "[5 rows x 15 columns]"
            ]
          },
          "metadata": {
            "tags": []
          },
          "execution_count": 21
        }
      ]
    },
    {
      "cell_type": "code",
      "metadata": {
        "id": "cX6HpMjVv5Uh",
        "colab_type": "code",
        "colab": {
          "base_uri": "https://localhost:8080/",
          "height": 347
        },
        "outputId": "03e924ff-4ce5-441a-ae59-677407cf8b3d"
      },
      "source": [
        "\n",
        "plt.style.use(\"seaborn\")\n",
        "x = df[\"Year\"]\n",
        "y = [float(y) for y in df[\"Incident Rate\"]]\n",
        "\n",
        "plt.plot(x,y)\n",
        "plt.yticks([y for y in range(0,15)])\n",
        "plt.show()"
      ],
      "execution_count": 19,
      "outputs": [
        {
          "output_type": "display_data",
          "data": {
            "image/png": "[encoded data removed]",
            "text/plain": [
              "<Figure size 576x396 with 1 Axes>"
            ]
          },
          "metadata": {
            "tags": []
          }
        }
      ]
    }
  ]
}